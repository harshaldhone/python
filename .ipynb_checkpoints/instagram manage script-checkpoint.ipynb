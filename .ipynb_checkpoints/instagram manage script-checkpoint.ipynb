{
 "cells": [
  {
   "cell_type": "code",
   "execution_count": 5,
   "metadata": {},
   "outputs": [
    {
     "name": "stdout",
     "output_type": "stream",
     "text": [
      "Collecting selenium\n",
      "  Downloading selenium-3.141.0-py2.py3-none-any.whl (904 kB)\n",
      "\u001b[K     |████████████████████████████████| 904 kB 498 kB/s \n",
      "\u001b[?25hRequirement already satisfied: urllib3 in /home/harshal/anaconda3/lib/python3.7/site-packages (from selenium) (1.23)\n",
      "Installing collected packages: selenium\n",
      "Successfully installed selenium-3.141.0\n"
     ]
    }
   ],
   "source": [
    "!pip install selenium"
   ]
  },
  {
   "cell_type": "code",
   "execution_count": 60,
   "metadata": {},
   "outputs": [],
   "source": [
    "from selenium import webdriver     \n",
    "# For using sleep function because selenium \n",
    "# works only when the all the elemets of the \n",
    "# page is loaded.\n",
    "import time\n",
    "browser = webdriver.Chrome() \n",
    "  \n",
    "url = \"https://www.instagram.com/harshal_k_dhone/\" #You can paste any id\n",
    "username =\"harshal_k_dhone\" #Enter your id\n",
    "password=\"Harshu@143\"  #Enter your password\n",
    "browser.get(followlink)\n",
    "time.sleep(3)\n",
    "  \n",
    "#\n",
    "\n",
    "  \n",
    "a = browser.find_element_by_xpath(\"//*[@id='loginForm']/div/div[1]/div/label/input\")\n",
    "a.send_keys(username)\n",
    "  \n",
    "b = browser.find_element_by_xpath(\"//*[@id='loginForm']/div/div[2]/div/label/input\")\n",
    "b.send_keys(password)\n",
    "#How webpage looks before login screenshot\n",
    "#browser.get_screenshot_as_file(\"Instagram.png\")\n",
    "browser.find_element_by_xpath(\"//*[@id='loginForm']/div/div[3]\").click()\n",
    "#How webpage looks after login screenshot\n",
    "#browser.get_screenshot_as_file(\"Instagram1.png\")\n",
    "time.sleep(3)\n",
    "\n",
    "\n",
    "browser.get(url)\n",
    "time.sleep(3)\n",
    "browser.find_element_by_xpath(\"//*[@id='react-root']/section/main/div/header/section/ul/li[2]/a\").click()\n"
   ]
  },
  {
   "cell_type": "code",
   "execution_count": null,
   "metadata": {},
   "outputs": [],
   "source": [
    "\n"
   ]
  },
  {
   "cell_type": "code",
   "execution_count": null,
   "metadata": {},
   "outputs": [],
   "source": []
  },
  {
   "cell_type": "code",
   "execution_count": 121,
   "metadata": {},
   "outputs": [],
   "source": [
    "content = browser.page_source\n",
    "soup = BeautifulSoup(content)\n"
   ]
  },
  {
   "cell_type": "code",
   "execution_count": 122,
   "metadata": {},
   "outputs": [
    {
     "name": "stdout",
     "output_type": "stream",
     "text": [
      "<div class=\"enpQJ\"><div class=\"d7ByH\"><span class=\"Jv7Aj mArmR MqpiF \"><a class=\"FPmhX notranslate _0imsa \" href=\"/gunjal_shubham01/\" tabindex=\"0\" title=\"gunjal_shubham01\">gunjal_shubham01</a></span> </div><div class=\"wFPL8 \">Shubham Gunjal</div></div>\n",
      "\n",
      "\n"
     ]
    },
    {
     "ename": "AttributeError",
     "evalue": "'NoneType' object has no attribute 'text'",
     "output_type": "error",
     "traceback": [
      "\u001b[0;31m---------------------------------------------------------------------------\u001b[0m",
      "\u001b[0;31mAttributeError\u001b[0m                            Traceback (most recent call last)",
      "\u001b[0;32m<ipython-input-122-56d557f7d1e2>\u001b[0m in \u001b[0;36m<module>\u001b[0;34m()\u001b[0m\n\u001b[1;32m      7\u001b[0m     \u001b[0minstaid\u001b[0m\u001b[0;34m=\u001b[0m\u001b[0mdiv\u001b[0m\u001b[0;34m.\u001b[0m\u001b[0mfind\u001b[0m\u001b[0;34m(\u001b[0m\u001b[0;34m'a'\u001b[0m\u001b[0;34m,\u001b[0m \u001b[0mattrs\u001b[0m\u001b[0;34m=\u001b[0m\u001b[0;34m{\u001b[0m\u001b[0;34m'class'\u001b[0m\u001b[0;34m:\u001b[0m\u001b[0;34m'FPmhX notranslate  _0imsa '\u001b[0m\u001b[0;34m}\u001b[0m\u001b[0;34m)\u001b[0m\u001b[0;34m\u001b[0m\u001b[0m\n\u001b[1;32m      8\u001b[0m     \u001b[0mname\u001b[0m\u001b[0;34m=\u001b[0m\u001b[0mdiv\u001b[0m\u001b[0;34m.\u001b[0m\u001b[0mfind\u001b[0m\u001b[0;34m(\u001b[0m\u001b[0;34m'div'\u001b[0m\u001b[0;34m,\u001b[0m \u001b[0mattrs\u001b[0m\u001b[0;34m=\u001b[0m\u001b[0;34m{\u001b[0m\u001b[0;34m'class'\u001b[0m\u001b[0;34m:\u001b[0m\u001b[0;34m'_7UhW9 xLCgt MMzan _0PwGv fDxYl '\u001b[0m\u001b[0;34m}\u001b[0m\u001b[0;34m)\u001b[0m\u001b[0;34m\u001b[0m\u001b[0m\n\u001b[0;32m----> 9\u001b[0;31m     \u001b[0mprint\u001b[0m\u001b[0;34m(\u001b[0m\u001b[0;34m\"Name:\"\u001b[0m\u001b[0;34m+\u001b[0m\u001b[0mname\u001b[0m\u001b[0;34m.\u001b[0m\u001b[0mtext\u001b[0m\u001b[0;34m,\u001b[0m\u001b[0;34m\"Insta ID:\"\u001b[0m\u001b[0;34m+\u001b[0m\u001b[0minstaid\u001b[0m\u001b[0;34m.\u001b[0m\u001b[0mtext\u001b[0m\u001b[0;34m)\u001b[0m\u001b[0;34m\u001b[0m\u001b[0m\n\u001b[0m",
      "\u001b[0;31mAttributeError\u001b[0m: 'NoneType' object has no attribute 'text'"
     ]
    }
   ],
   "source": [
    "followers=soup.find('div',attrs={'class':'PZuss'})\n",
    "\n",
    "#print(followers)\n",
    "for div in soup.findAll('div', attrs={'class':'wo9IH'}):\n",
    "    print(div)\n",
    "    print(\"\\n\")\n",
    "    instaid=div.find('a', attrs={'class':'FPmhX notranslate  _0imsa '})\n",
    "    name=div.find('div', attrs={'class':'_7UhW9 xLCgt MMzan _0PwGv fDxYl '})\n",
    "    print(\"Name:\"+name.text,\"Insta ID:\"+instaid.text)"
   ]
  },
  {
   "cell_type": "code",
   "execution_count": 59,
   "metadata": {},
   "outputs": [],
   "source": []
  },
  {
   "cell_type": "code",
   "execution_count": null,
   "metadata": {},
   "outputs": [],
   "source": []
  }
 ],
 "metadata": {
  "kernelspec": {
   "display_name": "Python 3",
   "language": "python",
   "name": "python3"
  },
  "language_info": {
   "codemirror_mode": {
    "name": "ipython",
    "version": 3
   },
   "file_extension": ".py",
   "mimetype": "text/x-python",
   "name": "python",
   "nbconvert_exporter": "python",
   "pygments_lexer": "ipython3",
   "version": "3.7.0"
  }
 },
 "nbformat": 4,
 "nbformat_minor": 2
}
