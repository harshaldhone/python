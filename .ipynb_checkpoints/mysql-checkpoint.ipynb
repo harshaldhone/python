{
 "cells": [
  {
   "cell_type": "raw",
   "metadata": {},
   "source": [
    "pip install --upgrade pip\n"
   ]
  },
  {
   "cell_type": "code",
   "execution_count": 8,
   "metadata": {},
   "outputs": [
    {
     "name": "stdout",
     "output_type": "stream",
     "text": [
      "Collecting mysql-connector-python\n",
      "\u001b[?25l  Downloading https://files.pythonhosted.org/packages/8f/eb/4b449ee81b14aada746aa292481d3d522aa20b41cb124b24d6205251dcce/mysql_connector_python-8.0.22-cp37-cp37m-manylinux1_x86_64.whl (18.0MB)\n",
      "\u001b[K    100% |████████████████████████████████| 18.0MB 567kB/s \n",
      "\u001b[?25hCollecting protobuf>=3.0.0 (from mysql-connector-python)\n",
      "\u001b[?25l  Downloading https://files.pythonhosted.org/packages/e0/dd/5c5d156ee1c4dba470d76dac5ae57084829b4e17547f28e9f636ce3fa54b/protobuf-3.14.0-cp37-cp37m-manylinux1_x86_64.whl (1.0MB)\n",
      "\u001b[K    100% |████████████████████████████████| 1.0MB 502kB/s \n",
      "\u001b[?25hRequirement already satisfied: six>=1.9 in /home/harshal/anaconda3/lib/python3.7/site-packages (from protobuf>=3.0.0->mysql-connector-python) (1.11.0)\n",
      "\u001b[31mtwisted 18.7.0 requires PyHamcrest>=1.9.0, which is not installed.\u001b[0m\n",
      "Installing collected packages: protobuf, mysql-connector-python\n",
      "Successfully installed mysql-connector-python-8.0.22 protobuf-3.14.0\n",
      "\u001b[33mYou are using pip version 10.0.1, however version 20.3.3 is available.\n",
      "You should consider upgrading via the 'pip install --upgrade pip' command.\u001b[0m\n"
     ]
    }
   ],
   "source": [
    "!pip install mysql-connector-python\n"
   ]
  },
  {
   "cell_type": "code",
   "execution_count": 3,
   "metadata": {},
   "outputs": [],
   "source": [
    "import mysql.connector"
   ]
  },
  {
   "cell_type": "code",
   "execution_count": 4,
   "metadata": {},
   "outputs": [],
   "source": [
    "con = mysql.connector.connect(host='localhost',password='Admin@143',user='admin')"
   ]
  },
  {
   "cell_type": "code",
   "execution_count": 5,
   "metadata": {},
   "outputs": [
    {
     "name": "stdout",
     "output_type": "stream",
     "text": [
      "Database created succesully\n"
     ]
    }
   ],
   "source": [
    "cur = con.cursor()\n",
    "\n",
    "# Execute a query\n",
    "cur.execute(\"create database sample\")\n",
    "\n",
    "print(\"Database created succesully\")\n",
    "\n",
    "'''# Fetch one result\n",
    "row = cur.fetchone()\n",
    "print(\"Current date is: {0}\".format(row[0]))'''\n",
    "\n",
    "# Close connection\n",
    "c\n"
   ]
  },
  {
   "cell_type": "code",
   "execution_count": null,
   "metadata": {},
   "outputs": [],
   "source": []
  }
 ],
 "metadata": {
  "kernelspec": {
   "display_name": "Python 3",
   "language": "python",
   "name": "python3"
  },
  "language_info": {
   "codemirror_mode": {
    "name": "ipython",
    "version": 3
   },
   "file_extension": ".py",
   "mimetype": "text/x-python",
   "name": "python",
   "nbconvert_exporter": "python",
   "pygments_lexer": "ipython3",
   "version": "3.7.0"
  }
 },
 "nbformat": 4,
 "nbformat_minor": 2
}
