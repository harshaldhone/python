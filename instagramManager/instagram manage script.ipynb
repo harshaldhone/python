{
 "cells": [
  {
   "cell_type": "code",
   "execution_count": 5,
   "metadata": {},
   "outputs": [
    {
     "name": "stdout",
     "output_type": "stream",
     "text": [
      "Collecting selenium\n",
      "  Downloading selenium-3.141.0-py2.py3-none-any.whl (904 kB)\n",
      "\u001b[K     |████████████████████████████████| 904 kB 498 kB/s \n",
      "\u001b[?25hRequirement already satisfied: urllib3 in /home/harshal/anaconda3/lib/python3.7/site-packages (from selenium) (1.23)\n",
      "Installing collected packages: selenium\n",
      "Successfully installed selenium-3.141.0\n"
     ]
    }
   ],
   "source": [
    "!pip install selenium"
   ]
  },
  {
   "cell_type": "code",
   "execution_count": 28,
   "metadata": {},
   "outputs": [],
   "source": [
    "from selenium import webdriver     \n",
    "# For using sleep function because selenium \n",
    "# works only when the all the elemets of the \n",
    "# page is loaded.\n",
    "import time\n",
    "browser = webdriver.Chrome() \n",
    "followlink=\"https://www.instagram.com\"\n",
    "url = \"https://www.instagram.com/harshal_k_dhone/\" #You can paste any id\n",
    "username =\"harshal_k_dhone\" #Enter your id\n",
    "password=\"Harshu@143\"  #Enter your password\n",
    "browser.get(followlink)\n",
    "time.sleep(3)\n",
    "\n",
    "a = browser.find_element_by_xpath(\"//*[@id='loginForm']/div/div[1]/div/label/input\")\n",
    "a.send_keys(username)\n",
    "  \n",
    "b = browser.find_element_by_xpath(\"//*[@id='loginForm']/div/div[2]/div/label/input\")\n",
    "b.send_keys(password)\n",
    "#How webpage looks before login screenshot\n",
    "#browser.get_screenshot_as_file(\"Instagram.png\")\n",
    "browser.find_element_by_xpath(\"//*[@id='loginForm']/div/div[3]\").click()\n",
    "#How webpage looks after login screenshot\n",
    "#browser.get_screenshot_as_file(\"Instagram1.png\")\n",
    "time.sleep(3)\n",
    "\n",
    "\n",
    "browser.get(url)\n",
    "time.sleep(3)\n",
    "\n"
   ]
  },
  {
   "cell_type": "code",
   "execution_count": 4,
   "metadata": {},
   "outputs": [],
   "source": [
    "from bs4 import BeautifulSoup"
   ]
  },
  {
   "cell_type": "code",
   "execution_count": 21,
   "metadata": {},
   "outputs": [],
   "source": [
    "#before this step open followers and scroll to last\n",
    "content = browser.page_source\n",
    "soup = BeautifulSoup(content)\n",
    "#print(soup)"
   ]
  },
  {
   "cell_type": "code",
   "execution_count": 22,
   "metadata": {},
   "outputs": [
    {
     "name": "stdout",
     "output_type": "stream",
     "text": [
      "['gunjal_shubham01', 'sangram7262', 'nitin__4_u', 'kamariyadev', 'ajinkya_ghodekar', 'atul_mhaske_ap', 'dighejitu', 'offi_cialoma', 'thebike_racer', 'm_a_l_a_k__yt', 'aniket_shenkar07_pics', 'warning_i_m_not_a_photographer', 'dronescaracas', 'vinod12323', 'karpe_ganesh1', 'vinu.112', 'photopedia_2112', 'kavya_kids_wear', 'aliya_0122', 'pritam_1419', 'sangamneri_status_katta', 'drithape', 'avcoe_models', 'rohini.tribhuvan', 'subham_rajj', 'abhisheksanjaylngale', 'hajare.babasaheb', 'amane_tbuz', 'sushen_tiwari', 'sumitthorat312', 'spectaacle', '___cute_teen_54', 'unexploreworld', 'itc_ajit', 'ashok96562', 'kurhe68', 'ashok491491', 'tkajalmalunjkar2018', 'pooja_497', 'pallavi_09sm', '_m.a.n.u_1902', 'hidden_shine_of_black', 'sn.ehal448', 'harshu_gunjal_13', 'sanjanakakad', '__vaidehi_24__', 'b_deva4433', 'poojapnagare', 'abhishekdighe2020', 'shushant_sigh_rajput_fan', 'priya_bhavar', 'saurabh__dange', 'shubham.ingale.1315', 'badesudarshan', 'sachinpawarkendriya', 'samadhan.ashtekar', 'an_ilkumar38', 'prashantthorat12', 'vk_57_s', 'wale.pooja', 'rani_abhang', 'uddhav4946', 's.a.n.d.y_23', 'prakash.dighe.5205', 'pal_yadan.de', 'adigaikwad5', 'broken_me_feels', 'ingale3411', 'sushanthrode', 'sharayu_titame', 'salve2136', 'bibavepratibha', 'girlgoodgirl123', 'its_andy_ara', 'anup_shinde_patil', 'patareganesh', 'mr.vaibhav_xxv.iv', 'thorat3374', 'saurabhsanap.tech', 'swapnilborhade1', 'a_b_h_i_n_a_v_t', 'dighesangra', 'priti_kekan', 'pravin_9552', 'dighe_patil_7835', 'ghugesantoshr', 'sanket_197', 'prajyotpadekarpatil', 'sanchi136', 'datta.katkhade', 'mohobbat_e_fitoor', 'pune_chats_', 'k_n_thorat', 'shete_ankita', 'shankhnaad_rgpv', 'gokul_k25', 'saurabh_12_96', 'prajakta_1405', 'vishal_dhone_', 'shubharts2799', 'trivishkar_chitr', 'pavnaaaa_swag_', 'wale_samiksha', 'akshay_dhanmane', 'dilipkacholiya', 'gorde_varsha', 'shwetu_dawkhar', 'mangeshdho', 'dhananjay7529', 'kolhe850', 'ahemad.pathan.28', 'akshayingale05', 'puja_411', 'sunilsangle21', 'nayanbhosale', 'aslamshaikh6907', 'ketankawade98', 'teamalpha.official5', 'prasad_gagrani', 'pranu2503', 'paresh.1997', 'saikhandangale', 'mahesh.ilag.79', 'maheshgawali1998', 'madhuri_gavhane14', 'shwetali_dhole', 'aniket_ingale2205', 'n_i_t_i_n_d_i_g_h_e', 'dhokaremangesh', 'pkdagale_sangamner', 'nirmalud97', 'mr_shubham45', 'sunilmore1071', 'ajit_thorat_1104', 'mhaske_mayur', 'omkar__thorat_2003', 'n.a.n.d.u.___', 'harshal_chattar', 'pankaj_thorat_', 'ganeshw1234', 'shubhamai_s_lips_official', 'pandurang_gend', 'sani.chavan', 'abdighe', 'husan__lopoke', 'pranitaskarle', 'doderoshan', 'pushpak55', 'shubham_kakad2', 'kaju_nehe', 'digheadesh', 'amolkakad6213', 'shruti132', 'tatyasahebkakad', 'innovationshub_nashik', 'sakshigaikwad124', 'kakad8539', 'rajguruyogesh20', 'thoratpratik1509', 'chetan_d96', 'rup_gaik7476', 'kakadakshay160', 'patil_rishikesh_', 'dighe_abhijit', 'mansi360', 'akash_jondhale_patil', 'dongareavinash123', 'mayur.avhad.7398', 'pranjali_2507', 'ravsahebgunjal', 'siddharthjadhav5634', 'sandipkadam00', 'digheabhijeet', 'ejaz_20_20', 'energetic_nikhil', 'prajakta.dighe912', 'ram_dhakne2510', '_aviator.143_', 'kiran_s_jadhav_6464', 'rahul.g_10', 'sagartupe7028', 'madhuri_.dongare._', 'kolhe_rutwik', 'bhaskargavali98', 'haresh_gangurde', 'darshan_tapal', 'dighesatyam', 'viraj_gadekar', 'nilesh_tilekar', 'jayeshpatil__96k_', 'chetan_g123', 'sangram.dighe.7', 'ss8608064gmail.com6624', 'shubhamdokhe09', 'abhijit_musmade_patil', 's_m_i_l_e_e_e', 'tusharmk07', 'niket1808', 'sagyaaaa_pawar_', 'jayesh_hule', 'govardhan_96k', 'pran_mahi', 'abhijeet_khatode', 'mokshada.duggad']\n"
     ]
    }
   ],
   "source": [
    "\n",
    "\n",
    "followers=soup.find('div',attrs={'class':'PZuss'})\n",
    "instaids_followers=[]\n",
    "#print(followers)\n",
    "for div in soup.findAll('div', attrs={'class':'t2ksc'}):\n",
    "    #print(div)\n",
    "    #print(\"\\n\")\n",
    "    instaid=div.find('a', attrs={'class':'FPmhX notranslate _0imsa '})\n",
    "    instaids_followers.append(instaid.text)\n",
    "    name=div.find('div', attrs={'class':'wFPL8 '})\n",
    "    #print(\"Name:\"+name.text,\"Insta ID:\"+instaid.text)\n",
    "print(instaids_followers)"
   ]
  },
  {
   "cell_type": "code",
   "execution_count": 32,
   "metadata": {},
   "outputs": [],
   "source": [
    "#before this step open followings and scroll to last\n",
    "content = browser.page_source\n",
    "soup = BeautifulSoup(content)"
   ]
  },
  {
   "cell_type": "code",
   "execution_count": 33,
   "metadata": {},
   "outputs": [
    {
     "name": "stdout",
     "output_type": "stream",
     "text": [
      "['m_a_l_a_k__yt', 'gunjal_shubham01', 'sangram7262', 'ajinkya_ghodekar', 'dighejitu', 'warning_i_m_not_a_photographer', 'vinod12323', 'dronescaracas', 'protonmail', 'karpe_ganesh1', 'vinu.112', 'photopedia_2112', 's_k_muzic', 'kavya_kids_wear', 'aliya_0122', 'pritam_1419', 'drithape', 'vedikapinto', 'avcoe_models', 'rohini.tribhuvan', 'dpi.drdo', 'subham_rajj', 'bloomdayall', 'abhisheksanjaylngale', 'sushen_tiwari', 'sumitthorat312', 'chaitanya_maharaj_wadekar', 'ashleshathaakur', 'spectaacle', 'hajare.babasaheb', 'nitin__4_u', '___cute_teen_54', 'unexploreworld', 'itc_ajit', 'ashok96562', 'kurhe68', 'ashok491491', 'memewale_avengers', 'tkajalmalunjkar2018', 'l_love_sangamner', 'pallavi_09sm', 'pooja_497', '_m.a.n.u_1902', 'hidden_shine_of_black', 'sn.ehal448', 'harshu_gunjal_13', 'sanjanakakad', 'b_deva4433', '__vaidehi_24__', 'poojapnagare', 'abhishekdighe2020', 'priya_bhavar', 'saurabh__dange', '_vibed_clicks_', 'shubham.ingale.1315', 'badesudarshan', 'pal_yadan.de', 'sachinpawarkendriya', 'prashantthorat12', 'an_ilkumar38', 'samadhan.ashtekar', 'wale.pooja', 'vk_57_s', 'rani_abhang', 'uddhav4946', 's.a.n.d.y_23', 'prakash.dighe.5205', 'adigaikwad5', 'broken_me_feels', 'anup_shinde_patil', 'art_of_magical_artist', 'dighesangra', 'aslamshaikh6907', 'pune_chats_', 'shankhnaad_rgpv', 'swapnilborhade1', 'sunilmore1071', 'dighe_patil_7835', 'nayanbhosale', 'husan__lopoke', 'girlgoodgirl123', 'ghugesantoshr', 'the_mysterious_love_', 'mohobbat_e_fitoor', 'thorat3374', 'ingale3411', 'sushanthrode', 'its_andy_ara', 'saurabhsanap.tech', 'mr.vaibhav_xxv.iv', 'patareganesh', 'a_b_h_i_n_a_v_t', 'priti_kekan', 'prajyotpadekarpatil', 'k_n_thorat', 'shete_ankita', 'gokul_k25', 'prajakta_1405', 'vishal_dhone_', 'shubharts2799', 'pranu2503', 'sharayu_titame', 'dhananjay7529', 'wale_samiksha', 'akshay_dhanmane', 'dilipkacholiya', 'gorde_varsha', 'shwetu_dawkhar', 'mahesh.ilag.79', 'mangeshdho', 'ahemad.pathan.28', 'akshayingale05', 'puja_411', 'sunilsangle21', 'pkdagale_sangamner', 'ketankawade98', 'teamalpha.official5', 'prasad_gagrani', 'paresh.1997', 'saikhandangale', 'madhuri_gavhane14', 'shwetali_dhole', 'aniket_ingale2205', 'omkar__thorat_2003', 'nirmalud97', 'mr_shubham45', 'sanchi136', 'mhaske_mayur', 'harshal_chattar', 'pankaj_thorat_', 'shubhamai_s_lips_official', 'sani.chavan', 'abdighe', 'akash_jondhale_patil', 'pranitaskarle', 'pushpak55', 'amolkakad6213', 'shruti132', 'innovationshub_nashik', 'rajguruyogesh20', 'rup_gaik7476', 'sakshigaikwad124', 'kakadakshay160', 'chetan_d96', 'mansi360', 'patil_rishikesh_', 'dongareavinash123', 'pranjali_2507', 'ejaz_20_20', 'ravsahebgunjal', 'digheabhijeet', 'siddharthjadhav5634', 'datta.katkhade', 'prajakta.dighe912', 'bibavepratibha', '_aviator.143_', 'kiran_s_jadhav_6464', 'rahul.g_10', 'madhuri_.dongare._', 'bhaskargavali98', 'saurabh_12_96', 'chetan_g123', 'jayeshpatil__96k_', 'kaju_nehe', 'nilesh_tilekar', 'mayur.avhad.7398', 'viraj_gadekar', 'dighesatyam', 'sanket_197', 'abhijit_musmade_patil', 'shubhamdokhe09', 'tusharmk07', 'tatyasahebkakad', 'maheshgawali1998', 'sangram.dighe.7', 'dhokaremangesh', 'trivishkar_chitr', 'shubham_kakad2', 's_m_i_l_e_e_e', 'ram_dhakne2510', 'niket1808', 'govardhan_96k', 'digheadesh', 'ss8608064gmail.com6624', 'salve2136', 'kakad8539', 'pran_mahi', 'darshan_tapal', 'jayesh_hule', 'energetic_nikhil', 'haresh_gangurde', 'ajit_thorat_1104', 'ganeshw1234', 'pravin_9552', 'pandurang_gend', 'sagyaaaa_pawar_', 'n_i_t_i_n_d_i_g_h_e', 'pavnaaaa_swag_', 'doderoshan', 'thoratpratik1509', 'dighe_abhijit', 'sandipkadam00', 'kolhe_rutwik', 'abhijeet_khatode', 'sagartupe7028', 'mokshada.duggad']\n"
     ]
    }
   ],
   "source": [
    "followings=soup.find('div',attrs={'class':'PZuss'})\n",
    "instaid_following=[]\n",
    "#print(followers)\n",
    "for div in soup.findAll('div', attrs={'class':'t2ksc'}):\n",
    "    #print(div)\n",
    "    #print(\"\\n\")\n",
    "    instaid=div.find('a', attrs={'class':'FPmhX notranslate _0imsa '})\n",
    "    instaid_following.append(instaid.text)\n",
    "    name=div.find('div', attrs={'class':'wFPL8 '})\n",
    "    #print(\"Name:\"+name.text,\"Insta ID:\"+instaid.text)\n",
    "print(instaid_following)"
   ]
  },
  {
   "cell_type": "code",
   "execution_count": 34,
   "metadata": {},
   "outputs": [
    {
     "name": "stdout",
     "output_type": "stream",
     "text": [
      "['dpi.drdo', 'l_love_sangamner', 'protonmail', 's_k_muzic', 'chaitanya_maharaj_wadekar', 'the_mysterious_love_', '_vibed_clicks_', 'memewale_avengers', 'bloomdayall', 'ashleshathaakur', 'vedikapinto', 'art_of_magical_artist']\n"
     ]
    }
   ],
   "source": [
    "def Diff(li1, li2):\n",
    "    return (list(list(set(li1)-set(li2))))\n",
    "print(Diff(instaid_following,instaids_followers))"
   ]
  },
  {
   "cell_type": "code",
   "execution_count": null,
   "metadata": {},
   "outputs": [],
   "source": []
  }
 ],
 "metadata": {
  "kernelspec": {
   "display_name": "Python 3",
   "language": "python",
   "name": "python3"
  },
  "language_info": {
   "codemirror_mode": {
    "name": "ipython",
    "version": 3
   },
   "file_extension": ".py",
   "mimetype": "text/x-python",
   "name": "python",
   "nbconvert_exporter": "python",
   "pygments_lexer": "ipython3",
   "version": "3.7.0"
  }
 },
 "nbformat": 4,
 "nbformat_minor": 2
}
